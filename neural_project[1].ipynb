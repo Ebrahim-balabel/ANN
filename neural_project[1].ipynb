{
 "cells": [
  {
   "cell_type": "code",
   "execution_count": 1,
   "id": "8e211fdb",
   "metadata": {},
   "outputs": [],
   "source": [
    "import pandas as pd\n",
    "import numpy as np\n",
    "import matplotlib.pyplot as plt\n",
    "%matplotlib inline\n",
    "import seaborn as sns\n",
    "sns.set(style=\"whitegrid\")\n",
    "import os\n",
    "import glob as gb\n",
    "import cv2\n",
    "import tensorflow as tf\n",
    "import keras"
   ]
  },
  {
   "cell_type": "code",
   "execution_count": 3,
   "id": "64589bd2",
   "metadata": {},
   "outputs": [],
   "source": [
    "trainpath = 'Downloads/Shoes Dataset/Train/'\n",
    "testpath = 'Downloads/Shoes Dataset/Test/'\n",
    "predpath = 'Downloads/Shoes Dataset/valid/'"
   ]
  },
  {
   "cell_type": "code",
   "execution_count": 4,
   "id": "7a8c1f43",
   "metadata": {},
   "outputs": [
    {
     "ename": "FileNotFoundError",
     "evalue": "[WinError 3] The system cannot find the path specified: 'Downloads/Shoes Dataset/Train/'",
     "output_type": "error",
     "traceback": [
      "\u001b[1;31m---------------------------------------------------------------------------\u001b[0m",
      "\u001b[1;31mFileNotFoundError\u001b[0m                         Traceback (most recent call last)",
      "Cell \u001b[1;32mIn[4], line 2\u001b[0m\n\u001b[0;32m      1\u001b[0m \u001b[39m# print(os.listdir(trainpath))\u001b[39;00m\n\u001b[1;32m----> 2\u001b[0m \u001b[39mfor\u001b[39;00m folder \u001b[39min\u001b[39;00m os\u001b[39m.\u001b[39;49mlistdir(trainpath):\n\u001b[0;32m      3\u001b[0m     files \u001b[39m=\u001b[39m gb\u001b[39m.\u001b[39mglob(pathname\u001b[39m=\u001b[39m \u001b[39mstr\u001b[39m(trainpath\u001b[39m+\u001b[39mfolder\u001b[39m+\u001b[39m\u001b[39m'\u001b[39m\u001b[39m/*\u001b[39m\u001b[39m'\u001b[39m))\n\u001b[0;32m      4\u001b[0m     \u001b[39mprint\u001b[39m(\u001b[39mf\u001b[39m\u001b[39m'\u001b[39m\u001b[39mFor training data , found \u001b[39m\u001b[39m{\u001b[39;00m\u001b[39mlen\u001b[39m(files)\u001b[39m}\u001b[39;00m\u001b[39m in folder \u001b[39m\u001b[39m{\u001b[39;00mfolder\u001b[39m}\u001b[39;00m\u001b[39m'\u001b[39m)\n",
      "\u001b[1;31mFileNotFoundError\u001b[0m: [WinError 3] The system cannot find the path specified: 'Downloads/Shoes Dataset/Train/'"
     ]
    }
   ],
   "source": [
    "# print(os.listdir(trainpath))\n",
    "for folder in os.listdir(trainpath):\n",
    "    files = gb.glob(pathname= str(trainpath+folder+'/*'))\n",
    "    print(f'For training data , found {len(files)} in folder {folder}')"
   ]
  },
  {
   "cell_type": "code",
   "execution_count": 24,
   "id": "7246ed2b",
   "metadata": {},
   "outputs": [
    {
     "name": "stdout",
     "output_type": "stream",
     "text": [
      "For training data , found 97 in folder Ballet Flat\n",
      "For training data , found 236 in folder Boat\n",
      "For training data , found 192 in folder Brogue\n",
      "For training data , found 424 in folder Clog\n",
      "For training data , found 266 in folder Sneaker\n"
     ]
    }
   ],
   "source": [
    "for folder in os.listdir(testpath):\n",
    "    files = gb.glob(pathname= str(testpath+folder+'/*'))\n",
    "    print(f'For training data , found {len(files)} in folder {folder}')"
   ]
  },
  {
   "cell_type": "code",
   "execution_count": 25,
   "id": "8c01d7c6",
   "metadata": {},
   "outputs": [
    {
     "name": "stdout",
     "output_type": "stream",
     "text": [
      "For training data , found 500 in folder Ballet Flat\n",
      "For training data , found 500 in folder Boat\n",
      "For training data , found 500 in folder Brogue\n",
      "For training data , found 500 in folder Clog\n",
      "For training data , found 500 in folder Sneaker\n"
     ]
    }
   ],
   "source": [
    "for folder in os.listdir(predpath):\n",
    "    files = gb.glob(pathname= str(predpath+folder+'/*'))\n",
    "    print(f'For training data , found {len(files)} in folder {folder}')"
   ]
  },
  {
   "cell_type": "code",
   "execution_count": 33,
   "id": "332dba16",
   "metadata": {},
   "outputs": [
    {
     "data": {
      "text/plain": [
       "(225, 225, 3)    2315\n",
       "(275, 183, 3)    1008\n",
       "(259, 194, 3)     994\n",
       "(183, 275, 3)     391\n",
       "(254, 199, 3)     311\n",
       "                 ... \n",
       "(132, 209, 3)       1\n",
       "(124, 406, 3)       1\n",
       "(150, 200, 3)       1\n",
       "(209, 242, 3)       1\n",
       "(303, 166, 3)       1\n",
       "Length: 479, dtype: int64"
      ]
     },
     "execution_count": 33,
     "metadata": {},
     "output_type": "execute_result"
    }
   ],
   "source": [
    "size = []\n",
    "for folder in os.listdir(trainpath):\n",
    "    files = gb.glob(pathname= str(trainpath + folder+'/*') )\n",
    "    for file in files :\n",
    "        imag = plt.imread(file)\n",
    "        size.append(imag.shape)\n",
    "pd.Series(size).value_counts()"
   ]
  },
  {
   "cell_type": "code",
   "execution_count": 35,
   "id": "bf17f58d",
   "metadata": {},
   "outputs": [
    {
     "data": {
      "text/plain": [
       "(225, 225, 3)    257\n",
       "(259, 194, 3)    125\n",
       "(275, 183, 3)     71\n",
       "(183, 275, 3)     62\n",
       "(251, 200, 3)     51\n",
       "                ... \n",
       "(157, 321, 3)      1\n",
       "(168, 299, 3)      1\n",
       "(96, 526, 3)       1\n",
       "(197, 255, 3)      1\n",
       "(208, 243, 3)      1\n",
       "Length: 211, dtype: int64"
      ]
     },
     "execution_count": 35,
     "metadata": {},
     "output_type": "execute_result"
    }
   ],
   "source": [
    "size = []\n",
    "for folder in os.listdir(testpath):\n",
    "    files = gb.glob(pathname= str(testpath + folder+'/*') )\n",
    "    for file in files :\n",
    "        imag = plt.imread(file)\n",
    "        size.append(imag.shape)\n",
    "pd.Series(size).value_counts()"
   ]
  },
  {
   "cell_type": "code",
   "execution_count": 36,
   "id": "0a9bff65",
   "metadata": {},
   "outputs": [
    {
     "data": {
      "text/plain": [
       "(225, 225, 3)    565\n",
       "(259, 194, 3)    260\n",
       "(275, 183, 3)    144\n",
       "(183, 275, 3)    129\n",
       "(194, 259, 3)     76\n",
       "                ... \n",
       "(122, 412, 3)      1\n",
       "(140, 320, 3)      1\n",
       "(250, 188, 3)      1\n",
       "(166, 250, 3)      1\n",
       "(230, 219, 3)      1\n",
       "Length: 287, dtype: int64"
      ]
     },
     "execution_count": 36,
     "metadata": {},
     "output_type": "execute_result"
    }
   ],
   "source": [
    "size = []\n",
    "for folder in os.listdir(predpath):\n",
    "    files = gb.glob(pathname= str(predpath + folder+'/*') )\n",
    "    for file in files :\n",
    "        imag = plt.imread(file)\n",
    "        size.append(imag.shape)\n",
    "pd.Series(size).value_counts()"
   ]
  },
  {
   "cell_type": "code",
   "execution_count": 40,
   "id": "9ed77aa3",
   "metadata": {},
   "outputs": [],
   "source": [
    "s = 225"
   ]
  },
  {
   "cell_type": "code",
   "execution_count": 46,
   "id": "2b09a1a4",
   "metadata": {},
   "outputs": [],
   "source": [
    "code = {'Ballet Flat':0, 'Boat':1, 'Brogue':2, 'Clog':3, 'Sneaker':4}"
   ]
  },
  {
   "cell_type": "code",
   "execution_count": 47,
   "id": "48b99b3a",
   "metadata": {},
   "outputs": [],
   "source": [
    "x_train = []\n",
    "y_train = []\n",
    "for folder in os.listdir(trainpath):\n",
    "    files = gb.glob(pathname= str(trainpath+folder+'/*'))\n",
    "    for file in files :\n",
    "        imag = cv2.imread(file)\n",
    "        imag_array = cv2.resize(imag,(s,s))\n",
    "        x_train.append(list(imag_array))\n",
    "        y_train.append(code[folder])\n",
    "    "
   ]
  },
  {
   "cell_type": "code",
   "execution_count": 52,
   "id": "aba43fdc",
   "metadata": {},
   "outputs": [],
   "source": [
    "x_test = []\n",
    "y_test = []\n",
    "for folder in  os.listdir(testpath) : \n",
    "    files = gb.glob(pathname= str(testpath + folder + '/*'))\n",
    "    for file in files: \n",
    "        image = cv2.imread(file)\n",
    "        image_array = cv2.resize(image , (s,s))\n",
    "        x_test.append(list(image_array))\n",
    "        y_test.append(code[folder])"
   ]
  },
  {
   "cell_type": "code",
   "execution_count": 58,
   "id": "e9a9d656",
   "metadata": {},
   "outputs": [],
   "source": [
    "x_pred = []\n",
    "y_pred = []\n",
    "for folder in  os.listdir(predpath) : \n",
    "    files = gb.glob(pathname= str(predpath +folder+ '/*'))\n",
    "    for file in files: \n",
    "        image = cv2.imread(file)\n",
    "        image_array = cv2.resize(image , (s,s))\n",
    "        x_pred.append(list(image_array))   \n",
    "        y_pred.append(code[folder])"
   ]
  },
  {
   "cell_type": "code",
   "execution_count": 2,
   "id": "e4a9fe5d",
   "metadata": {},
   "outputs": [
    {
     "ename": "NameError",
     "evalue": "name 'x_train' is not defined",
     "output_type": "error",
     "traceback": [
      "\u001b[1;31m---------------------------------------------------------------------------\u001b[0m",
      "\u001b[1;31mNameError\u001b[0m                                 Traceback (most recent call last)",
      "Cell \u001b[1;32mIn[2], line 1\u001b[0m\n\u001b[1;32m----> 1\u001b[0m x_train \u001b[39m=\u001b[39m np\u001b[39m.\u001b[39marray(x_train)\n\u001b[0;32m      2\u001b[0m x_test \u001b[39m=\u001b[39m np\u001b[39m.\u001b[39marray(x_test)\n\u001b[0;32m      3\u001b[0m x_pred \u001b[39m=\u001b[39m np\u001b[39m.\u001b[39marray(x_pred)\n",
      "\u001b[1;31mNameError\u001b[0m: name 'x_train' is not defined"
     ]
    }
   ],
   "source": [
    "x_train = np.array(x_train)\n",
    "x_test = np.array(x_test)\n",
    "x_pred = np.array(x_pred)\n",
    "y_pred =np.array(y_pred)\n",
    "y_train = np.array(y_train)\n",
    "y_test = np.array(y_test)"
   ]
  },
  {
   "cell_type": "code",
   "execution_count": null,
   "id": "6eb229bd",
   "metadata": {},
   "outputs": [],
   "source": []
  }
 ],
 "metadata": {
  "kernelspec": {
   "display_name": "Python 3 (ipykernel)",
   "language": "python",
   "name": "python3"
  },
  "language_info": {
   "codemirror_mode": {
    "name": "ipython",
    "version": 3
   },
   "file_extension": ".py",
   "mimetype": "text/x-python",
   "name": "python",
   "nbconvert_exporter": "python",
   "pygments_lexer": "ipython3",
   "version": "3.10.11"
  }
 },
 "nbformat": 4,
 "nbformat_minor": 5
}
